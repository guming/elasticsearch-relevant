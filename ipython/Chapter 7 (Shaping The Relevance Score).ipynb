{
 "cells": [
  {
   "cell_type": "code",
   "execution_count": 39,
   "metadata": {},
   "outputs": [],
   "source": [
    "import requests\n",
    "import json\n",
    "import os\n",
    "from elasticsearch import (\n",
    "    Elasticsearch,\n",
    "    helpers\n",
    ")\n",
    "client = Elasticsearch()\n",
    "Headers= {'Content-Type' : \"application/json\" }\n",
    "\n",
    "def transform(esDoc):\n",
    "    pass\n",
    "\n",
    "\n",
    "# Some utilities for flattening the explain into something a bit more\n",
    "# readable. Pass Explain JSON, get something readable (ironically this is what Solr's default output is :-p)\n",
    "def flatten(l):\n",
    "    [item for sublist in l for item in sublist]\n",
    "\n",
    "def simplerExplain(explainJson, depth=0):\n",
    "    result = \" \" * (depth * 2) + \"%s, %s\\n\" % (explainJson['value'], explainJson['description'])\n",
    "    #print json.dumps(explainJson, indent=True)\n",
    "    if 'details' in explainJson:\n",
    "        for detail in explainJson['details']:\n",
    "            result += simplerExplain(detail, depth=depth+1)\n",
    "    return result\n",
    "\n",
    "\n",
    "# To speed up the pace of development, we really need to focus more heavily on the analysis and query\n",
    "# settings of the search engine, rather than fidly bits of the http interface.\n",
    "#\n",
    "# To that end, we're going to collapse some of the code you were introduced to in chapter 3 into more general functions,\n",
    "# so we can reuse them. Largely, this is the exact same code you saw in chapter 3 some more generality.\n",
    "\n",
    "## Analyze\n",
    "## The analyze function is a helper for accessing the _analyze endpoint like we did in chapter 3. Recall,\n",
    "## given a field or analyzer, passing some text to _analyze will return the token stream that results from\n",
    "## that analyzer. This token stream, if you recall, shows us exactly how the search engine translate text\n",
    "## into individual tokens to be consumed by the underlying data structures. When we debug analysis, we see\n",
    "## matches we need to expect.\n",
    "def analyze(text, field=None, analyzer=None):\n",
    "    whatToAnalyze = ''\n",
    "    if field is not None:\n",
    "        whatToAnalyze = \"field=%s\" % field\n",
    "    elif analyzer is not None:\n",
    "        whatToAnalyze = \"analyzer=%s\" % analyzer\n",
    "    resp = requests.get(\"http://localhost:9200/tmdb/_analyze?%s&format=yaml\" % whatToAnalyze, \n",
    "                        data=text,headers=Headers)\n",
    "    print resp.text\n",
    "    \n",
    "## Search\n",
    "## Next we need to wrap up our execution of query DSL queries. The function 'search' will execute the passed query DSL\n",
    "## query and display the results. \n",
    "## If a scoring explain is associated with the results, then it also gets displayed,\n",
    "## We'll also be sure to dump the query DSL\n",
    "def search(query, verbose=False):\n",
    "    url = 'http://localhost:9200/tmdb/_search'\n",
    "    httpResp = requests.get(url, data=json.dumps(query),headers=Headers)\n",
    "    if httpResp.status_code != 200:\n",
    "        print \"Search Failed <%s>\" % httpResp.status_code\n",
    "        print \"%s\" % httpResp.text\n",
    "    searchHits = json.loads(httpResp.text)['hits']\n",
    "    print \"Num\\tRelevance Score\\t\\tMovie Title\"\n",
    "    for idx, hit in enumerate(searchHits['hits']):\n",
    "            castNames = []            \n",
    "            castCharacters = []                        \n",
    "            directorNames = []\n",
    "            for cast in hit['_source']['cast']:\n",
    "                castNames.append(cast['name'])\n",
    "                castCharacters.append(cast['character'])\n",
    "            for director in hit['_source']['directors']:\n",
    "                directorNames.append(director['name'])\n",
    "            print \"%s\\t%s\\t\\t%s\\t%s\\t%s\" % (idx + 1, hit['_score'], \n",
    "                                      hit['_source']['title'], \n",
    "                                      hit['_source']['vote_average'],\n",
    "                                      hit['_source']['release_date'])\n",
    "            if verbose:\n",
    "                print \"%s\" % hit['_source']['title']\n",
    "                print \"%s\" % hit['_source']['tagline']        \n",
    "                print \"%s\" % hit['_source']['overview']        \n",
    "                print \"%s\" % hit['_id']\n",
    "                print \"DIRS %s\" % directorNames\n",
    "                print \"CAST %s\" % castNames\n",
    "                print \"CHAR %s\" % castCharacters\n",
    "                if '_explanation' in hit:\n",
    "                    print \"%s\" % simplerExplain(hit['_explanation'])\n",
    "                    print \"*************************************\"\n",
    "    \n",
    "    if verbose:\n",
    "        httpResp = requests.get('http://localhost:9200' + \n",
    "                    '/tmdb/movie/_validate/query?explain',\n",
    "                     data=json.dumps({'query': query['query']}),headers=Headers)\n",
    "        print json.loads(httpResp.text)\n",
    "\n",
    "## Reindex\n",
    "## Reindex takes analyzer and field mappings, recreates the index, and then reindexes\n",
    "## TMDB movies using the _bulk index API. There are other ways for modifying the configuration\n",
    "## of the index besides dropping and restarting, however for convenience and because our data\n",
    "## isn't truly that large, we'll just delete and start from scratch when we need to.\n",
    "def reindex(analysisSettings, mappingSettings=None, movieDict={}):\n",
    "    # Destroy any existing index (equiv to SQL \"drop table\")\n",
    "    resp = requests.delete(\"http://localhost:9200/tmdb\",headers=Headers)\n",
    "    print \"Delete TMDB Index <%s>\" % resp.status_code\n",
    "    \n",
    "    # Create the index with explicit settings\n",
    "    # We need to explicitely set number of shards to 1 to eliminate the impact of \n",
    "    # distributed IDF on our small collection\n",
    "    # See also \"Relavance is Broken!\"\n",
    "    # http://www.elastic.co/guide/en/elasticsearch/guide/current/relevance-is-broken.html\n",
    "    settings = {\n",
    "        \"settings\": {\n",
    "            \"number_of_shards\": 1,\n",
    "            \"index\": {\n",
    "                \"analysis\" : analysisSettings,\n",
    "            }\n",
    "        }\n",
    "    }\n",
    "    if mappingSettings:\n",
    "        settings['mappings'] = mappingSettings\n",
    "    resp = requests.put(\"http://localhost:9200/tmdb\", data=json.dumps(settings),headers=Headers)\n",
    "    print \"Create TMDB Index <%s>\" % resp.status_code\n",
    "    if resp.status_code != 200:\n",
    "        print resp.text\n",
    "    \n",
    "    # Bulk index title & overview to the movie endpoint\n",
    "    print \"Indexing %i movies\" % len(movieDict.keys())\n",
    "    actions = (format_doc(doc) for id,doc in movieDict.iteritems())\n",
    "    results = [details for success,details in helpers.streaming_bulk(client, actions,chunk_size=5000) if not success]\n",
    "    print \"Bulk Index into TMDB Index <%s>\" % results\n",
    "\n",
    "\n",
    "def extract(movieIds=[], numMovies=10000):\n",
    "    if len(movieIds) == 0:\n",
    "        try:\n",
    "            f = open('tmdb.json')\n",
    "            if f:\n",
    "                return json.loads(f.read());\n",
    "        except IOError:\n",
    "            pass       \n",
    "    return movieDict\n",
    "\n",
    "\n",
    "def format_doc(doc):\n",
    "    transform(doc)\n",
    "    action = {\n",
    "        \"_index\": \"tmdb\",\n",
    "        \"_type\": \"_doc\",\n",
    "        \"_id\": doc['id'],\n",
    "        \"_source\": doc\n",
    "        }\n",
    "    return action"
   ]
  },
  {
   "cell_type": "markdown",
   "metadata": {},
   "source": [
    "## Index to ES, Chapter 5 Settings"
   ]
  },
  {
   "cell_type": "code",
   "execution_count": 62,
   "metadata": {},
   "outputs": [
    {
     "name": "stdout",
     "output_type": "stream",
     "text": [
      "Delete TMDB Index <200>\n",
      "Create TMDB Index <200>\n",
      "Indexing 3051 movies\n",
      "Bulk Index into TMDB Index <[]>\n"
     ]
    }
   ],
   "source": [
    "movieDict = extract([])\n",
    "\n",
    "analysisSettings = {\n",
    "   \"analyzer\" : {\n",
    "      \"default\" : {\n",
    "        \"type\" : \"english\"\n",
    "      },\n",
    "      \"english_bigrams\": {\n",
    "          \"type\": \"custom\",\n",
    "          \"tokenizer\": \"standard\",\n",
    "          \"filter\": [\n",
    "            \"lowercase\",\n",
    "            \"porter_stem\",\n",
    "            \"bigram_filter\"\n",
    "          ]\n",
    "      }\n",
    "    },\n",
    "  \"filter\": {\n",
    "    \"bigram_filter\": {\n",
    "        \"type\": \"shingle\",\n",
    "        \"max_shingle_size\":2,\n",
    "        \"min_shingle_size\":2,\n",
    "        \"output_unigrams\":\"false\"\n",
    "    }\n",
    "  }\n",
    "}\n",
    "\n",
    "            \n",
    "mappingSettings = {\n",
    "#     'movie': {\n",
    "        'properties': {\n",
    "            # Some bug means I have to be explicit about analyzer (ie default analyzer)\n",
    "            # doesn't apply\n",
    "            \"overview\": {\n",
    "                'type': 'text',\n",
    "                 'analyzer': 'english',\n",
    "\n",
    "            },\n",
    "            \"title\": {\n",
    "                'type': 'text',\n",
    "                 'analyzer': 'english',\n",
    "\n",
    "            },\n",
    "            \"cast\": {\n",
    "               'properties': {\n",
    "                  'name': {\n",
    "                      'type': 'text',\n",
    "                      'analyzer': 'english',\n",
    "                      'fields': {\n",
    "                         \"bigramed\": {\n",
    "                            \"type\": \"text\",\n",
    "                            \"analyzer\": \"english_bigrams\",\n",
    "                            #\"norms\" : {\n",
    "                            #   \"enabled\" : False\n",
    "                            #}\n",
    "                        }     \n",
    "                      }\n",
    "                   }\n",
    "                   \n",
    "               }\n",
    "            },\n",
    "            \"directors\": {\n",
    "               'properties': {\n",
    "                  'name': {\n",
    "                      'type': 'text',\n",
    "                      'analyzer': 'english',\n",
    "                      'fields': {\n",
    "                         \"bigramed\": {\n",
    "                            \"type\": \"text\",\n",
    "                            \"analyzer\": \"english_bigrams\",\n",
    "                            #\"norms\" : {\n",
    "                            #   \"enabled\" : False\n",
    "                            #}\n",
    "                        }                       \n",
    "                      },\n",
    "                 \n",
    "                   }\n",
    "                   \n",
    "               }\n",
    "            }            \n",
    "        }\n",
    "#     }\n",
    "}\n",
    "\n",
    "reindex(analysisSettings, mappingSettings, movieDict)"
   ]
  },
  {
   "cell_type": "markdown",
   "metadata": {},
   "source": [
    "# Last Query from Chapter 5"
   ]
  },
  {
   "cell_type": "code",
   "execution_count": 7,
   "metadata": {},
   "outputs": [
    {
     "name": "stdout",
     "output_type": "stream",
     "text": [
      "Num\tRelevance Score\t\tMovie Title\n",
      "1\t32.55439\t\tStar Trek: Generations\t6.5\t1994-11-17\n",
      "2\t20.59391\t\tStar Trek: Insurrection\t6.3\t1998-12-10\n",
      "3\t20.580244\t\tStar Trek: Nemesis\t6.3\t2002-12-12\n",
      "4\t20.264833\t\tStar Trek II: The Wrath of Khan\t7.1\t1982-06-03\n",
      "5\t19.561811\t\tStar Trek V: The Final Frontier\t5.4\t1989-06-09\n"
     ]
    }
   ],
   "source": [
    "usersSearch = 'star trek patrick stewart william shatner'\n",
    "query = {\n",
    "    'query': {\n",
    "        'bool': {\n",
    "            'should': [ \n",
    "                {\n",
    "                   'multi_match': { \n",
    "                      'query': usersSearch,  #User's query\n",
    "                      'fields': ['directors.name.bigramed', #B \n",
    "\t\t\t\t      'cast.name.bigramed'],\n",
    "                      'type': 'cross_fields'\n",
    "                      }\n",
    "                 },\n",
    "                {\n",
    "                   'multi_match': {\n",
    "                     'query': usersSearch,  #User's query\n",
    "                     'fields': ['overview', 'title', #C\n",
    "  'directors.name', 'cast.name'],\n",
    "                     'type': 'cross_fields'                                \n",
    "                   }\n",
    "                },\n",
    "            ]\n",
    "        }\n",
    "    },\n",
    "    'size': 5,\n",
    "    'explain': True\n",
    "}\n",
    "search(query) \n"
   ]
  },
  {
   "cell_type": "markdown",
   "metadata": {},
   "source": [
    "# 7.2.1, Listing 1 Base Query"
   ]
  },
  {
   "cell_type": "code",
   "execution_count": 8,
   "metadata": {},
   "outputs": [
    {
     "name": "stdout",
     "output_type": "stream",
     "text": [
      "Num\tRelevance Score\t\tMovie Title\n",
      "1\t13.512724\t\tStar Trek: Generations\t6.5\t1994-11-17\n",
      "2\t9.744539\t\tShowtime\t5.3\t2002-03-14\n",
      "3\t9.46119\t\tOsmosis Jones\t5.4\t2001-08-07\n",
      "4\t9.286617\t\tThe Wild\t5.0\t2006-04-13\n",
      "5\t8.662214\t\tMiss Congeniality 2: Armed and Fabulous\t5.3\t2005-03-11\n"
     ]
    }
   ],
   "source": [
    "usersSearch = 'william shatner patrick stewart'\n",
    "query = {\n",
    "    'query': {\n",
    "        'multi_match': {\n",
    "           'query': usersSearch,  #User's query\n",
    "            'fields': ['overview', 'title', #C\n",
    "                       'directors.name', 'cast.name'],\n",
    "            'type': 'cross_fields'                                \n",
    "         }\n",
    "    },\n",
    "    'size': 5,\n",
    "    'explain': True\n",
    "}\n",
    "search(query)"
   ]
  },
  {
   "cell_type": "markdown",
   "metadata": {},
   "source": [
    "# 7.2.3, Listing 2 Boosting with An Additional Boolean Clause"
   ]
  },
  {
   "cell_type": "code",
   "execution_count": 12,
   "metadata": {},
   "outputs": [
    {
     "name": "stdout",
     "output_type": "stream",
     "text": [
      "Num\tRelevance Score\t\tMovie Title\n",
      "1\t22.520575\t\tStar Trek: Generations\t6.5\t1994-11-17\n",
      "2\t16.638094\t\tStar Trek: Nemesis\t6.3\t2002-12-12\n",
      "3\t15.981052\t\tStar Trek: Insurrection\t6.3\t1998-12-10\n",
      "4\t15.16114\t\tStar Trek II: The Wrath of Khan\t7.1\t1982-06-03\n",
      "5\t15.076138\t\tStar Trek: The Motion Picture\t6.0\t1979-12-06\n"
     ]
    }
   ],
   "source": [
    "usersSearch = 'william shatner patrick stewart'\n",
    "query = {\n",
    "    'query': {\n",
    "        'bool': {\n",
    "            'should': [\n",
    "            {'multi_match': { #A\n",
    "               'query': usersSearch,  #User's query\n",
    "                'fields': ['overview', 'title', #C\n",
    "                           'directors.name', 'cast.name'],\n",
    "                'type': 'cross_fields'                                \n",
    "             }},\n",
    "            { #B\n",
    "               'match_phrase': {\n",
    "                    'title': {\n",
    "                        'query': 'star trek',\n",
    "                    }\n",
    "                }\n",
    "            }\n",
    "            ]\n",
    "        }\n",
    "    },\n",
    "    'size': 5,\n",
    "    'explain': True\n",
    "}\n",
    "search(query)"
   ]
  },
  {
   "cell_type": "markdown",
   "metadata": {},
   "source": [
    "# 7.2.3, Adjusted Boost Weight on Boolean Query (no listing no, modification of above listing)"
   ]
  },
  {
   "cell_type": "code",
   "execution_count": 14,
   "metadata": {},
   "outputs": [
    {
     "name": "stdout",
     "output_type": "stream",
     "text": [
      "Num\tRelevance Score\t\tMovie Title\n",
      "1\t14.413508\t\tStar Trek: Generations\t6.5\t1994-11-17\n",
      "2\t9.744539\t\tShowtime\t5.3\t2002-03-14\n",
      "3\t9.46119\t\tOsmosis Jones\t5.4\t2001-08-07\n",
      "4\t9.286617\t\tThe Wild\t5.0\t2006-04-13\n",
      "5\t9.045915\t\tStar Trek II: The Wrath of Khan\t7.1\t1982-06-03\n"
     ]
    }
   ],
   "source": [
    "usersSearch = 'william shatner patrick stewart'\n",
    "query = {\n",
    "    'query': {\n",
    "        'bool': {\n",
    "            'should': [\n",
    "            {'multi_match': { #A\n",
    "               'query': usersSearch,  #User's query\n",
    "                'fields': ['overview', 'title', #C\n",
    "                           'directors.name', 'cast.name'],\n",
    "                'type': 'cross_fields'                                \n",
    "             }},\n",
    "            { #B\n",
    "               'match_phrase': {\n",
    "                    'title': {\n",
    "                        'query': 'star trek',\n",
    "                        'boost': 0.1\n",
    "                    }\n",
    "                }\n",
    "            }\n",
    "            ]\n",
    "        }\n",
    "    },\n",
    "    'size': 5,\n",
    "    'explain': True\n",
    "}\n",
    "search(query)"
   ]
  },
  {
   "cell_type": "markdown",
   "metadata": {},
   "source": [
    "# 7.2.5, Listing 3 -- Multiplicative Boosting on Title Star Trek match"
   ]
  },
  {
   "cell_type": "code",
   "execution_count": 16,
   "metadata": {},
   "outputs": [
    {
     "name": "stdout",
     "output_type": "stream",
     "text": [
      "Num\tRelevance Score\t\tMovie Title\n",
      "1\t33.78181\t\tStar Trek: Generations\t6.5\t1994-11-17\n",
      "2\t20.916115\t\tStar Trek II: The Wrath of Khan\t7.1\t1982-06-03\n",
      "3\t19.893085\t\tStar Trek V: The Final Frontier\t5.4\t1989-06-09\n",
      "4\t19.418203\t\tStar Trek IV: The Voyage Home\t6.7\t1986-11-25\n",
      "5\t19.075605\t\tStar Trek: Nemesis\t6.3\t2002-12-12\n",
      "6\t18.746922\t\tStar Trek III: The Search for Spock\t6.3\t1984-05-31\n",
      "7\t18.324604\t\tStar Trek: The Motion Picture\t6.0\t1979-12-06\n",
      "8\t17.433002\t\tStar Trek: Insurrection\t6.3\t1998-12-10\n",
      "9\t16.777475\t\tStar Trek: First Contact\t6.9\t1996-11-21\n",
      "10\t16.63797\t\tStar Trek VI: The Undiscovered Country\t6.6\t1991-12-05\n",
      "11\t9.744539\t\tShowtime\t5.3\t2002-03-14\n",
      "12\t9.46119\t\tOsmosis Jones\t5.4\t2001-08-07\n",
      "13\t9.286617\t\tThe Wild\t5.0\t2006-04-13\n",
      "14\t8.662214\t\tMiss Congeniality 2: Armed and Fabulous\t5.3\t2005-03-11\n",
      "15\t8.289814\t\tConspiracy Theory\t6.2\t1997-08-07\n",
      "16\t8.285913\t\tBill & Ted's Bogus Journey\t5.8\t1991-07-19\n",
      "17\t7.675666\t\tOver the Hedge\t6.2\t2006-04-22\n",
      "18\t7.5218945\t\tFanboys\t6.3\t2009-02-06\n",
      "19\t7.498769\t\tMiss Congeniality\t6.0\t2000-12-14\n",
      "20\t7.4634113\t\tGuess Who\t5.5\t2005-03-25\n",
      "21\t7.335655\t\tX2: X-Men United\t6.5\t2003-04-27\n",
      "22\t7.2482014\t\tEscape from Planet Earth\t5.9\t2013-02-14\n",
      "23\t7.201886\t\tThe Collector\t6.4\t2009-07-09\n",
      "24\t7.1596975\t\tVertigo\t7.4\t1958-05-28\n",
      "25\t6.5651817\t\tFather of the Bride\t6.3\t1991-12-20\n",
      "26\t6.5468693\t\tGnomeo & Juliet\t5.9\t2011-01-13\n",
      "27\t6.5468693\t\tExcalibur\t6.7\t1981-04-10\n",
      "28\t6.465148\t\tX-Men: Days of Future Past\t7.7\t2014-05-23\n",
      "29\t6.3152065\t\tPanic Room\t6.3\t2002-03-29\n",
      "30\t6.1020947\t\tHannah Montana: The Movie\t6.0\t2009-04-10\n",
      "31\t6.0993795\t\tRobin Hood: Men in Tights\t6.2\t1993-07-28\n",
      "32\t6.030678\t\tThe Wolverine\t6.4\t2013-07-25\n",
      "33\t5.859933\t\tInto the Wild\t7.6\t2007-09-20\n",
      "34\t5.833557\t\tX-Men\t6.5\t2000-07-14\n",
      "35\t5.7233086\t\tFlatliners\t6.5\t1990-08-09\n",
      "36\t5.7091494\t\tDune\t6.5\t1984-12-14\n",
      "37\t5.6740966\t\tOne Flew Over the Cuckoo's Nest\t7.8\t1975-11-18\n",
      "38\t5.6086707\t\tTed\t6.3\t2012-06-29\n",
      "39\t5.5929093\t\tThe Collection\t6.0\t2012-09-21\n",
      "40\t5.589937\t\tSave the Last Dance\t6.4\t2001-01-12\n",
      "41\t5.589937\t\tTMNT\t6.0\t2007-03-22\n",
      "42\t5.583147\t\tDark Skies\t6.0\t2013-02-21\n",
      "43\t5.581291\t\tThe Cabin in the Woods\t6.3\t2012-04-12\n",
      "44\t5.5147743\t\tDial M for Murder\t7.5\t1954-05-29\n",
      "45\t5.475602\t\tThe Prince of Egypt\t6.7\t1998-12-15\n",
      "46\t5.4683194\t\tSingin' in the Rain\t7.1\t1952-04-10\n",
      "47\t5.382308\t\tEnchanted\t6.3\t2007-11-20\n",
      "48\t5.2604103\t\tA Time to Kill\t6.8\t1996-07-24\n",
      "49\t5.2288575\t\tJeepers Creepers\t6.1\t2001-07-01\n",
      "50\t5.1590357\t\tX-Men: The Last Stand\t6.1\t2006-05-26\n"
     ]
    }
   ],
   "source": [
    "usersSearch = 'william shatner patrick stewart'\n",
    "query = {\n",
    "    'query': {\n",
    "        'function_score': {\n",
    "            'query': {\n",
    "                 'multi_match': {\n",
    "                   'query': usersSearch,  #User's query\n",
    "                    'fields': ['overview', 'title', #C\n",
    "                               'directors.name', 'cast.name'],\n",
    "                    'type': 'cross_fields'                                \n",
    "                 }\n",
    "             },\n",
    "             'functions': [\n",
    "                {\n",
    "                     'weight': 2.5,\n",
    "                     'filter': {\n",
    "#                         'query': {\n",
    "                             'match_phrase': {\n",
    "                                    'title': 'star trek'\n",
    "                            }\n",
    "#                         }\n",
    "                     }\n",
    "                 }\n",
    "            ]\n",
    "        }\n",
    "    },\n",
    "    'size': 50,\n",
    "    'explain': True\n",
    "}\n",
    "search(query)"
   ]
  },
  {
   "cell_type": "markdown",
   "metadata": {},
   "source": [
    "# 7.3, Listing 4 -- Using a Filter Instead of A Boost"
   ]
  },
  {
   "cell_type": "code",
   "execution_count": 18,
   "metadata": {},
   "outputs": [
    {
     "name": "stdout",
     "output_type": "stream",
     "text": [
      "Num\tRelevance Score\t\tMovie Title\n",
      "1\t13.512724\t\tStar Trek: Generations\t6.5\t1994-11-17\n",
      "2\t8.366446\t\tStar Trek II: The Wrath of Khan\t7.1\t1982-06-03\n",
      "3\t7.9572344\t\tStar Trek V: The Final Frontier\t5.4\t1989-06-09\n",
      "4\t7.767281\t\tStar Trek IV: The Voyage Home\t6.7\t1986-11-25\n",
      "5\t7.6302423\t\tStar Trek: Nemesis\t6.3\t2002-12-12\n"
     ]
    }
   ],
   "source": [
    "usersSearch = 'william shatner patrick stewart'\n",
    "query = {\n",
    "    'query': {\n",
    "        'bool': {\n",
    "          'should': [\n",
    "            {    'multi_match': {\n",
    "                   'query': usersSearch,  #User's query\n",
    "                    'fields': ['overview', 'title', #C\n",
    "                               'directors.name', 'cast.name'],\n",
    "                    'type': 'cross_fields'                                \n",
    "                 }\n",
    "            }],\n",
    "          'filter': [{\n",
    "#             'query': {\n",
    "                'match_phrase': {\n",
    "                    'title': 'star trek'\n",
    "                }\n",
    "#             }\n",
    "          }]\n",
    "        }\n",
    "    },\n",
    "    'size': 5,\n",
    "    'explain': True\n",
    "}\n",
    "search(query)"
   ]
  },
  {
   "cell_type": "markdown",
   "metadata": {},
   "source": [
    "# 7.4.2, Listings 5&7 Sentinel Tokens (includes exact name matching)"
   ]
  },
  {
   "cell_type": "code",
   "execution_count": 63,
   "metadata": {},
   "outputs": [
    {
     "name": "stdout",
     "output_type": "stream",
     "text": [
      "Delete TMDB Index <200>\n",
      "Create TMDB Index <200>\n",
      "Indexing 3051 movies\n",
      "Bulk Index into TMDB Index <[]>\n"
     ]
    }
   ],
   "source": [
    "SENTINEL_BEGIN = 'SENTINEL_BEGIN'\n",
    "SENTINEL_END = 'SENTINEL_END'\n",
    "def transform(esDoc):  \n",
    "    esDoc['title_exact_match'] = SENTINEL_BEGIN + ' ' + esDoc['title'] + ' ' + SENTINEL_END\n",
    "    esDoc['names_exact_match'] = []\n",
    "    for person in esDoc['cast'] + esDoc['directors']:\n",
    "        esDoc['names_exact_match'].append(SENTINEL_BEGIN + ' ' + person['name'] + ' ' + SENTINEL_END)\n",
    "        \n",
    "        \n",
    "reindex(analysisSettings, mappingSettings, movieDict)"
   ]
  },
  {
   "cell_type": "markdown",
   "metadata": {},
   "source": [
    "# 7.4.2, Listing 6 -- Testing Exact Title Matching"
   ]
  },
  {
   "cell_type": "code",
   "execution_count": 64,
   "metadata": {},
   "outputs": [
    {
     "name": "stdout",
     "output_type": "stream",
     "text": [
      "Num\tRelevance Score\t\tMovie Title\n",
      "1\t10.588807\t\tStar Trek\t7.3\t2009-05-07\n"
     ]
    }
   ],
   "source": [
    "usersSearch = 'star trek'\n",
    "query = {\n",
    "    'query': {\n",
    "        'match_phrase': {\n",
    "            'title_exact_match': {\n",
    "                'query': SENTINEL_BEGIN + ' ' + usersSearch + ' ' + SENTINEL_END,\n",
    "            }\n",
    "        }\n",
    "    },\n",
    "    'size': 5,\n",
    "    'explain': True\n",
    "}\n",
    "search(query)"
   ]
  },
  {
   "cell_type": "markdown",
   "metadata": {},
   "source": [
    "# 7.4.3, Listing 8 Boolean Boost on Exact Title Matching"
   ]
  },
  {
   "cell_type": "code",
   "execution_count": 65,
   "metadata": {},
   "outputs": [
    {
     "name": "stdout",
     "output_type": "stream",
     "text": [
      "Num\tRelevance Score\t\tMovie Title\n",
      "1\t12208.437\t\tGood Will Hunting\t7.4\t1997-12-05\n",
      "2\t9.306215\t\tSaw V\t6.1\t2008-10-23\n",
      "3\t8.800726\t\tThe Hunt\t7.9\t2012-10-25\n",
      "4\t8.775521\t\tGood Night, and Good Luck.\t6.4\t2005-09-16\n",
      "5\t8.248026\t\tPay It Forward\t6.6\t2000-10-12\n"
     ]
    }
   ],
   "source": [
    "usersSearch = 'good will hunting'\n",
    "query = {\n",
    "    'query': {\n",
    "        'bool': {\n",
    "#             'disable_coord': True,\n",
    "            'should': [\n",
    "                {'match_phrase': {\n",
    "                    'title_exact_match': {\n",
    "                        'query': SENTINEL_BEGIN + ' ' + usersSearch + ' ' + SENTINEL_END,\n",
    "                        'boost': 1000,\n",
    "                    }          \n",
    "                }},\n",
    "                {'multi_match': {\n",
    "                   'query': usersSearch,  #User's query\n",
    "                    'fields': ['overview', 'title', #C\n",
    "                               'directors.name', 'cast.name'],\n",
    "                    'type': 'cross_fields'                                \n",
    "                 }},\n",
    "                \n",
    "            ]\n",
    "        }\n",
    "    },\n",
    "    'size': 5,\n",
    "    'explain': True\n",
    "}\n",
    "search(query)"
   ]
  },
  {
   "cell_type": "markdown",
   "metadata": {},
   "source": [
    "## No Listing -- Adding a query mentions name boost"
   ]
  },
  {
   "cell_type": "markdown",
   "metadata": {},
   "source": [
    "### First Attempt, search bigramed fields without modification"
   ]
  },
  {
   "cell_type": "code",
   "execution_count": 69,
   "metadata": {},
   "outputs": [
    {
     "name": "stdout",
     "output_type": "stream",
     "text": [
      "Num\tRelevance Score\t\tMovie Title\n",
      "1\t620.3404\t\tStar Trek: Insurrection\t6.3\t1998-12-10\n",
      "2\t604.30133\t\tStar Trek: First Contact\t6.9\t1996-11-21\n",
      "3\t583.6142\t\tGnomeo & Juliet\t5.9\t2011-01-13\n",
      "4\t583.6142\t\tExcalibur\t6.7\t1981-04-10\n",
      "5\t552.97955\t\tStar Trek: Generations\t6.5\t1994-11-17\n"
     ]
    }
   ],
   "source": [
    "usersSearch = 'star trek patrick stewart'\n",
    "query = {\n",
    "    'query': {\n",
    "        'bool': {\n",
    "#             'disable_coord': True,\n",
    "            'should': [\n",
    "                {'match_phrase': {\n",
    "                    'title_exact_match': {\n",
    "                        'query': SENTINEL_BEGIN + ' ' + usersSearch + ' ' + SENTINEL_END,\n",
    "                        'boost': 1000,\n",
    "                    }          \n",
    "                }},\n",
    "                {'multi_match': {\n",
    "                   'query': usersSearch,  #User's query\n",
    "                    'fields': ['overview', 'title', #C\n",
    "                               'directors.name', 'cast.name'],\n",
    "                    'type': 'cross_fields'\n",
    "                }},\n",
    "                {'multi_match': {\n",
    "                   'query': usersSearch,  #User's query\n",
    "                    'fields': ['directors.name.bigramed', 'cast.name.bigramed'],\n",
    "                    'type': 'cross_fields',\n",
    "                   'boost': 100\n",
    "                 }}\n",
    "                \n",
    "            ]\n",
    "        }\n",
    "    },\n",
    "    'size': 5,\n",
    "    'explain': True\n",
    "}\n",
    "search(query)"
   ]
  },
  {
   "cell_type": "code",
   "execution_count": 72,
   "metadata": {},
   "outputs": [
    {
     "name": "stdout",
     "output_type": "stream",
     "text": [
      "Delete TMDB Index <200>\n",
      "Create TMDB Index <200>\n",
      "Indexing 3051 movies\n",
      "Bulk Index into TMDB Index <[]>\n"
     ]
    }
   ],
   "source": [
    "mappingSettings['properties'] \\\n",
    "               ['cast']['properties'] \\\n",
    "               ['name']['fields']['bigramed']['norms'] = False\n",
    "        \n",
    "reindex(analysisSettings, mappingSettings, movieDict)"
   ]
  },
  {
   "cell_type": "markdown",
   "metadata": {},
   "source": [
    "### Rerunning with Norms Off For Bigrams"
   ]
  },
  {
   "cell_type": "code",
   "execution_count": 46,
   "metadata": {},
   "outputs": [
    {
     "name": "stdout",
     "output_type": "stream",
     "text": [
      "Num\tRelevance Score\t\tMovie Title\n",
      "1\t0.03920228\t\tStar Trek: Insurrection\t6.3\t1998-12-10\n",
      "2\t0.03920228\t\tStar Trek: First Contact\t6.9\t1996-11-21\n",
      "3\t0.03917096\t\tStar Trek: Nemesis\t6.3\t2002-12-12\n",
      "4\t0.03917096\t\tStar Trek: Generations\t6.5\t1994-11-17\n",
      "5\t0.03820324\t\tGnomeo & Juliet\t5.9\t2011-01-13\n",
      "6\t0.03820324\t\tExcalibur\t6.7\t1981-04-10\n",
      "7\t0.03818829\t\tX-Men: Days of Future Past\t7.7\t2014-05-23\n",
      "8\t0.038187582\t\tConspiracy Theory\t6.2\t1997-08-07\n",
      "9\t0.038187582\t\tThe Wolverine\t6.4\t2013-07-25\n",
      "10\t0.038187582\t\tDune\t6.5\t1984-12-14\n",
      "11\t0.038187582\t\tX-Men\t6.5\t2000-07-14\n",
      "12\t0.038171925\t\tX2: X-Men United\t6.5\t2003-04-27\n",
      "13\t0.038171925\t\tTMNT\t6.0\t2007-03-22\n",
      "14\t0.038171925\t\tThe Prince of Egypt\t6.7\t1998-12-15\n",
      "15\t0.038171925\t\tX-Men: The Last Stand\t6.1\t2006-05-26\n",
      "16\t0.03815442\t\tChicken Little\t5.4\t2005-11-04\n",
      "17\t0.00056567905\t\tStar Trek\t7.3\t2009-05-07\n",
      "18\t0.0004525432\t\tStar Trek: The Motion Picture\t6.0\t1979-12-06\n",
      "19\t0.0004525432\t\tStar Trek Into Darkness\t7.5\t2013-05-16\n",
      "20\t0.0003959753\t\tStar Trek VI: The Undiscovered Country\t6.6\t1991-12-05\n"
     ]
    }
   ],
   "source": [
    "usersSearch = 'star trek patrick stewart'\n",
    "query = {\n",
    "    'query': {\n",
    "        'bool': {\n",
    "            'disable_coord': True,\n",
    "            'should': [\n",
    "                {'match_phrase': {\n",
    "                    'title_exact_match': {\n",
    "                        'query': SENTINEL_BEGIN + ' ' + usersSearch + ' ' + SENTINEL_END,\n",
    "                        'boost': 1000,\n",
    "                    }          \n",
    "                }},\n",
    "                {'multi_match': {\n",
    "                   'query': usersSearch,  #User's query\n",
    "                    'fields': ['overview', 'title', #C\n",
    "                               'directors.name', 'cast.name'],\n",
    "                    'type': 'cross_fields'\n",
    "                }},\n",
    "                {'multi_match': {\n",
    "                   'query': usersSearch,  #User's query\n",
    "                    'fields': ['directors.name.bigramed', 'cast.name.bigramed'],\n",
    "                    'type': 'cross_fields',\n",
    "                   'boost': 100\n",
    "                 }}\n",
    "                \n",
    "            ]\n",
    "        }\n",
    "    },\n",
    "    'size': 20,\n",
    "    'explain': True\n",
    "}\n",
    "search(query)"
   ]
  },
  {
   "cell_type": "markdown",
   "metadata": {},
   "source": [
    "# 7.4.4.1 Exact Name Matching Function Query Skeleton using TF*IDF (no listing number)"
   ]
  },
  {
   "cell_type": "code",
   "execution_count": 77,
   "metadata": {},
   "outputs": [
    {
     "name": "stdout",
     "output_type": "stream",
     "text": [
      "Num\tRelevance Score\t\tMovie Title\n",
      "1\t10.460574\t\tStar Trek V: The Final Frontier\t5.4\t1989-06-09\n",
      "2\t9.576538\t\tShowtime\t5.3\t2002-03-14\n",
      "3\t9.061579\t\tOsmosis Jones\t5.4\t2001-08-07\n",
      "4\t8.231628\t\tStar Trek II: The Wrath of Khan\t7.1\t1982-06-03\n",
      "5\t7.8482566\t\tMiss Congeniality 2: Armed and Fabulous\t5.3\t2005-03-11\n",
      "6\t7.6696568\t\tStar Trek IV: The Voyage Home\t6.7\t1986-11-25\n",
      "7\t7.6696568\t\tMiss Congeniality\t6.0\t2000-12-14\n",
      "8\t7.4990053\t\tOver the Hedge\t6.2\t2006-04-22\n",
      "9\t7.4990053\t\tStar Trek: The Motion Picture\t6.0\t1979-12-06\n",
      "10\t7.4990053\t\tStar Trek III: The Search for Spock\t6.3\t1984-05-31\n"
     ]
    }
   ],
   "source": [
    "query = {\n",
    "    'query': {\n",
    "        'function_score': {\n",
    "            'query': {\n",
    "                'match_phrase': {\n",
    "                    'names_exact_match': SENTINEL_BEGIN + ' william shatner ' + SENTINEL_END\n",
    "                }\n",
    "            },          \n",
    "            'functions': [\n",
    "               \n",
    "            ]\n",
    "        }        \n",
    "    }\n",
    "}\n",
    "search(query)"
   ]
  },
  {
   "cell_type": "markdown",
   "metadata": {},
   "source": [
    "# 7.4.4.1 Exact Name Matching Function, Ignoring TF*IDF"
   ]
  },
  {
   "cell_type": "code",
   "execution_count": 99,
   "metadata": {},
   "outputs": [
    {
     "name": "stdout",
     "output_type": "stream",
     "text": [
      "Num\tRelevance Score\t\tMovie Title\n"
     ]
    }
   ],
   "source": [
    "query = {\n",
    "    'query': {\n",
    "        'function_score': {\n",
    "            'query': {\n",
    "                'constant_score': {\n",
    "#                     'query': {\n",
    "                        'filter': {\n",
    "                            'term':{'names_exact_match': SENTINEL_BEGIN + ' william shatner ' + SENTINEL_END}\n",
    "#                         }\n",
    "                    },\n",
    "                    'boost': 1000.0\n",
    "                }\n",
    "            },          \n",
    "            'functions': [\n",
    "            ]\n",
    "        }        \n",
    "    },\n",
    "    'explain':True\n",
    "}\n",
    "search(query)"
   ]
  },
  {
   "cell_type": "markdown",
   "metadata": {},
   "source": [
    "# 7.4.4.1, Listing 9 Turning User Rating into A Signal"
   ]
  },
  {
   "cell_type": "code",
   "execution_count": 81,
   "metadata": {},
   "outputs": [
    {
     "name": "stdout",
     "output_type": "stream",
     "text": [
      "Num\tRelevance Score\t\tMovie Title\n",
      "1\t2.9325757\t\tWhiplash\t8.6\t2014-10-10\n",
      "2\t2.9154758\t\tFeast\t8.5\t2014-11-07\n",
      "3\t2.8982754\t\tPaperman\t8.4\t2012-11-02\n",
      "4\t2.8982754\t\tMommy\t8.4\t2014-09-19\n",
      "5\t2.8982754\t\tInterstellar\t8.4\t2014-11-05\n",
      "6\t2.8982754\t\tAvengers: Age of Ultron\t8.4\t2015-05-01\n",
      "7\t2.8809721\t\tThe Tale of the Princess Kaguya\t8.3\t2013-11-23\n",
      "8\t2.8809721\t\tPresto\t8.3\t2008-06-26\n",
      "9\t2.8635643\t\tThe Shawshank Redemption\t8.2\t1994-09-14\n",
      "10\t2.8635643\t\tWolf Children\t8.2\t2012-08-29\n"
     ]
    }
   ],
   "source": [
    "query = {\n",
    "    'query': {\n",
    "        'function_score': {\n",
    "            'query': {\n",
    "                'match_all': {}\n",
    "            },          \n",
    "            'functions': [\n",
    "            {\n",
    "                 \"field_value_factor\": {\n",
    "                 \"field\": \"vote_average\",\n",
    "                 \"modifier\": \"sqrt\"\n",
    "                }\n",
    "            }]\n",
    "        }        \n",
    "    }\n",
    "}\n",
    "search(query)"
   ]
  },
  {
   "cell_type": "markdown",
   "metadata": {},
   "source": [
    "# 7.4.4.2 Listing 10, Turning Recency of Release Into A Signal (first try)"
   ]
  },
  {
   "cell_type": "code",
   "execution_count": 82,
   "metadata": {},
   "outputs": [
    {
     "name": "stdout",
     "output_type": "stream",
     "text": [
      "Num\tRelevance Score\t\tMovie Title\n",
      "1\t0.002309774\t\tResident Evil: Rising\t6.1\t2016-01-01\n",
      "2\t0.00071818096\t\tAvengers: Age of Ultron\t8.4\t2015-05-01\n",
      "3\t0.0006243266\t\tFurious 7\t7.8\t2015-04-03\n",
      "4\t0.00060271955\t\tHome\t7.2\t2015-03-27\n",
      "5\t0.00060271955\t\tIt Follows\t7.5\t2015-03-27\n",
      "6\t0.0005818115\t\tInsurgent\t7.3\t2015-03-20\n",
      "7\t0.00056158163\t\tFrozen Fever\t7.0\t2015-03-13\n",
      "8\t0.00056158163\t\tCinderella\t7.3\t2015-03-13\n",
      "9\t0.0005420097\t\tChappie\t7.0\t2015-03-06\n",
      "10\t0.00052307604\t\tJupiter Ascending\t5.6\t2015-02-27\n"
     ]
    }
   ],
   "source": [
    "query = {\n",
    "    'query': {\n",
    "        'function_score': {\n",
    "            'query': {\n",
    "                'match_all': {}\n",
    "            },          \n",
    "            'functions': [\n",
    "            {\n",
    "                 \"gauss\": {\n",
    "                    \"release_date\": {\n",
    "                        \"origin\": \"now\",\n",
    "                        \"scale\": \"900d\",\n",
    "                        \"decay\": 0.5\n",
    "                    }\n",
    "                }\n",
    "            }]\n",
    "        }        \n",
    "    },\n",
    "    'explain': True\n",
    "}\n",
    "search(query)"
   ]
  },
  {
   "cell_type": "markdown",
   "metadata": {},
   "source": [
    "# 7.4.4.2 Listing 10, Adjusted Gaussian Decay (set scale to 15 years)"
   ]
  },
  {
   "cell_type": "code",
   "execution_count": 83,
   "metadata": {},
   "outputs": [
    {
     "name": "stdout",
     "output_type": "stream",
     "text": [
      "Num\tRelevance Score\t\tMovie Title\n",
      "1\t0.84997207\t\tResident Evil: Rising\t6.1\t2016-01-01\n",
      "2\t0.8237962\t\tAvengers: Age of Ultron\t8.4\t2015-05-01\n",
      "3\t0.82071275\t\tFurious 7\t7.8\t2015-04-03\n",
      "4\t0.8199391\t\tHome\t7.2\t2015-03-27\n",
      "5\t0.8199391\t\tIt Follows\t7.5\t2015-03-27\n",
      "6\t0.8191643\t\tInsurgent\t7.3\t2015-03-20\n",
      "7\t0.8183884\t\tFrozen Fever\t7.0\t2015-03-13\n",
      "8\t0.8183884\t\tCinderella\t7.3\t2015-03-13\n",
      "9\t0.81761146\t\tChappie\t7.0\t2015-03-06\n",
      "10\t0.8168334\t\tJupiter Ascending\t5.6\t2015-02-27\n"
     ]
    }
   ],
   "source": [
    "query = {\n",
    "    'query': {\n",
    "        'function_score': {\n",
    "            'query': {\n",
    "                'match_all': {}\n",
    "            },          \n",
    "            'functions': [\n",
    "            {\n",
    "                 \"gauss\": {\n",
    "                    \"release_date\": {\n",
    "                        \"origin\": \"now\",\n",
    "                        \"scale\": \"5500d\",\n",
    "                        \"decay\": 0.5\n",
    "                    }\n",
    "                }\n",
    "            }]\n",
    "        }        \n",
    "    },\n",
    "    'explain': True\n",
    "}\n",
    "search(query)"
   ]
  },
  {
   "cell_type": "markdown",
   "metadata": {},
   "source": [
    "# 7.4.4.3 -- Complete Name Boost"
   ]
  },
  {
   "cell_type": "code",
   "execution_count": 103,
   "metadata": {},
   "outputs": [
    {
     "name": "stdout",
     "output_type": "stream",
     "text": [
      "Num\tRelevance Score\t\tMovie Title\n"
     ]
    }
   ],
   "source": [
    "usersSearch = 'patrick stewart'\n",
    "query = {\n",
    "    'query': {\n",
    "        'function_score': {\n",
    "            'query': {\n",
    "                'constant_score': {\n",
    "                    'filter': {\n",
    "                        'term': {\n",
    "                            'names_exact_match': SENTINEL_BEGIN + ' ' + usersSearch + ' ' + SENTINEL_END\n",
    "                        }\n",
    "                    },\n",
    "                    'boost': 1000.0\n",
    "                }            \n",
    "            },          \n",
    "            'functions': [\n",
    "            {\n",
    "                 \"gauss\": {\n",
    "                    \"release_date\": {\n",
    "                        \"origin\": \"now\",\n",
    "                        \"scale\": \"5500d\",\n",
    "                        \"decay\": 0.5\n",
    "                    }\n",
    "                }\n",
    "            },\n",
    "            {\n",
    "                \"field_value_factor\": {\n",
    "                 \"field\": \"vote_average\",\n",
    "                 \"modifier\": \"sqrt\"\n",
    "                }\n",
    "            }\n",
    "            \n",
    "            ]\n",
    "        }        \n",
    "    },\n",
    "    'explain': True,\n",
    "    'size': 20\n",
    "}\n",
    "search(query)"
   ]
  },
  {
   "cell_type": "markdown",
   "metadata": {},
   "source": [
    "# Not Shown In Chapter: The Whole Shebang"
   ]
  },
  {
   "cell_type": "code",
   "execution_count": 21,
   "metadata": {},
   "outputs": [
    {
     "name": "stdout",
     "output_type": "stream",
     "text": [
      "Num\tRelevance Score\t\tMovie Title\n",
      "1\t2764.44\t\tX-Men: Days of Future Past\t7.7\t2014-05-23\n",
      "2\t2497.8433\t\tThe Wolverine\t6.4\t2013-07-25\n",
      "3\t2433.9927\t\tTed\t6.3\t2012-06-29\n",
      "4\t2274.0195\t\tGnomeo & Juliet\t5.9\t2011-01-13\n",
      "5\t1962.7107\t\tTMNT\t6.0\t2007-03-22\n"
     ]
    }
   ],
   "source": [
    "usersSearch = 'patrick stewart'\n",
    "query = {\n",
    "    'query': {\n",
    "        'bool': {\n",
    "            'disable_coord': True,\n",
    "            'should': [\n",
    "                {'match_phrase': {\n",
    "                    'title_exact_match': {\n",
    "                        'query': SENTINEL_BEGIN + ' ' + usersSearch + ' ' + SENTINEL_END,\n",
    "                        'boost': 1000,\n",
    "                    }          \n",
    "                }},\n",
    "                {\n",
    "                   'function_score': {\n",
    "                        'query': {\n",
    "                            'constant_score': {\n",
    "                                'query': {\n",
    "                                    'match_phrase': {\n",
    "                                        'names_exact_match': SENTINEL_BEGIN + ' ' + usersSearch + ' ' + SENTINEL_END\n",
    "                                    }\n",
    "                                },\n",
    "                                'boost': 1000.0\n",
    "                            }            \n",
    "                        },          \n",
    "                        'functions': [\n",
    "                        {\n",
    "                             \"gauss\": {\n",
    "                                \"release_date\": {\n",
    "                                    \"origin\": \"now\",\n",
    "                                    \"scale\": \"5500d\",\n",
    "                                    \"decay\": 0.5\n",
    "                                }\n",
    "                            }\n",
    "                        },\n",
    "                        {\n",
    "                            \"field_value_factor\": {\n",
    "                             \"field\": \"vote_average\",\n",
    "                             \"modifier\": \"sqrt\"\n",
    "                            }\n",
    "                        }\n",
    "                        \n",
    "                        ]\n",
    "                    }                    \n",
    "                },\n",
    "                {'multi_match': {\n",
    "                   'query': usersSearch,  #User's query\n",
    "                    'fields': ['overview', 'title', #C\n",
    "                               'directors.name', 'cast.name'],\n",
    "                    'type': 'cross_fields'                                \n",
    "                 }},\n",
    "                \n",
    "            ]\n",
    "        }\n",
    "    },\n",
    "    'size': 5,\n",
    "    'explain': True\n",
    "}\n",
    "search(query)"
   ]
  },
  {
   "cell_type": "code",
   "execution_count": null,
   "metadata": {},
   "outputs": [],
   "source": []
  }
 ],
 "metadata": {
  "kernelspec": {
   "display_name": "Python 2",
   "language": "python",
   "name": "python2"
  },
  "language_info": {
   "codemirror_mode": {
    "name": "ipython",
    "version": 2
   },
   "file_extension": ".py",
   "mimetype": "text/x-python",
   "name": "python",
   "nbconvert_exporter": "python",
   "pygments_lexer": "ipython2",
   "version": "2.7.18"
  }
 },
 "nbformat": 4,
 "nbformat_minor": 1
}
